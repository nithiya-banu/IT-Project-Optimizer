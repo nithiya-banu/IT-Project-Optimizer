{
 "cells": [
  {
   "cell_type": "code",
   "execution_count": null,
   "metadata": {
    "vscode": {
     "languageId": "plaintext"
    }
   },
   "outputs": [],
   "source": [
    "import pandas as pd\n",
    "import matplotlib.pyplot as plt\n",
    "import seaborn as sns\n",
    "import os, shutil\n",
    "\n",
    "if os.path.exists(\"plots\"):\n",
    "    shutil.rmtree(\"plots\")\n",
    "os.mkdir(\"plots/\")\n",
    "\n",
    "# Load the processed datasets\n",
    "projects = pd.read_csv(\"data/processed_project_data.csv\")\n",
    "clients = pd.read_csv(\"data/processed_client_data.csv\")\n",
    "\n",
    "sns.set(style=\"whitegrid\")\n",
    "\n",
    "# 1. Distribution of Project Delays\n",
    "plt.figure(figsize=(10, 5))\n",
    "sns.histplot(projects[\"Delay (Days)\"], bins=30, kde=True, color='blue')\n",
    "plt.title(\"Distribution of Project Delays\")\n",
    "plt.xlabel(\"Delay (Days)\")\n",
    "plt.ylabel(\"Frequency\")\n",
    "plt.savefig(\"plots/distribution_of_project_delays.png\")\n",
    "plt.close()\n",
    "\n",
    "# 2. Complaints Resolved vs Satisfaction Score\n",
    "plt.figure(figsize=(10, 5))\n",
    "sns.scatterplot(x=clients[\"Complaints Resolved\"], y=clients[\"Satisfaction Score\"], alpha=0.6)\n",
    "plt.title(\"Complaints Resolved vs Satisfaction Score\")\n",
    "plt.xlabel(\"Complaints Resolved\")\n",
    "plt.ylabel(\"Satisfaction Score\")\n",
    "plt.savefig(\"plots/complaints_resolved_vs_satisfaction_score.png\")\n",
    "plt.close()\n",
    "\n",
    "# 3. Churn Risk Distribution\n",
    "plt.figure(figsize=(7, 5))\n",
    "sns.countplot(x=clients[\"Churn Risk\"], palette=\"coolwarm\", hue=clients[\"Churn Risk\"], legend=False)\n",
    "plt.title(\"Churn Risk Distribution\")\n",
    "plt.xlabel(\"Churn Risk Level\")\n",
    "plt.ylabel(\"Count\")\n",
    "plt.savefig(\"plots/churn_risk_distribution.png\")\n",
    "plt.close()\n",
    "\n",
    "# 4. Correlation Heatmap for Clients Data\n",
    "plt.figure(figsize=(12, 6))\n",
    "sns.heatmap(clients.corr(), annot=True, cmap=\"coolwarm\", linewidths=0.5)\n",
    "plt.title(\"Correlation Heatmap of Client Data\")\n",
    "plt.savefig(\"plots/correlation_heatmap_client_data.png\")\n",
    "plt.close()\n",
    "\n",
    "# 5. Budget vs Delay Comparison\n",
    "plt.figure(figsize=(10, 5))\n",
    "sns.scatterplot(x=projects[\"Budget (USD)\"], y=projects[\"Delay (Days)\"], alpha=0.5)\n",
    "plt.title(\"Budget vs Delay Comparison\")\n",
    "plt.xlabel(\"Budget (USD)\")\n",
    "plt.ylabel(\"Delay (Days)\")\n",
    "plt.savefig(\"plots/budget_vs_delay_comparison.png\")\n",
    "plt.close()\n",
    "\n",
    "print(\"Visualizations generated successfully!\")\n"
   ]
  }
 ],
 "metadata": {
  "language_info": {
   "name": "python"
  }
 },
 "nbformat": 4,
 "nbformat_minor": 2
}
